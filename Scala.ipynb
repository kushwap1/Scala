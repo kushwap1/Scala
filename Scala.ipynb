{
 "cells": [
  {
   "cell_type": "markdown",
   "id": "3997b97c",
   "metadata": {},
   "source": [
    "# Scala Code"
   ]
  },
  {
   "cell_type": "code",
   "execution_count": 4,
   "id": "993f6fba",
   "metadata": {},
   "outputs": [
    {
     "data": {
      "text/plain": [
       "hello: String = My name is Pankaj\n"
      ]
     },
     "execution_count": 4,
     "metadata": {},
     "output_type": "execute_result"
    }
   ],
   "source": [
    "val hello: String=\"My name is Pankaj\""
   ]
  },
  {
   "cell_type": "code",
   "execution_count": 5,
   "id": "09bb4463",
   "metadata": {},
   "outputs": [
    {
     "name": "stdout",
     "output_type": "stream",
     "text": [
      "My name is Pankaj\n"
     ]
    }
   ],
   "source": [
    "println(hello)"
   ]
  },
  {
   "cell_type": "code",
   "execution_count": 30,
   "id": "868583f4",
   "metadata": {},
   "outputs": [
    {
     "name": "stdout",
     "output_type": "stream",
     "text": [
      "18\n"
     ]
    },
    {
     "data": {
      "text/plain": [
       "number1: Int = 18\n",
       "number2: Int = 233\n",
       "pi: Double = 3.141592653589793\n"
      ]
     },
     "execution_count": 30,
     "metadata": {},
     "output_type": "execute_result"
    }
   ],
   "source": [
    "val number1: Int=18\n",
    "val number2: Int=233\n",
    "println(number1)\n",
    "val pi: Double = 3.141592653589793238"
   ]
  },
  {
   "cell_type": "code",
   "execution_count": 8,
   "id": "336de12a",
   "metadata": {},
   "outputs": [
    {
     "data": {
      "text/plain": [
       "Truth: Boolean = false\n"
      ]
     },
     "execution_count": 8,
     "metadata": {},
     "output_type": "execute_result"
    }
   ],
   "source": [
    "val Truth: Boolean = false"
   ]
  },
  {
   "cell_type": "code",
   "execution_count": 17,
   "id": "4cf49e06",
   "metadata": {},
   "outputs": [
    {
     "name": "stdout",
     "output_type": "stream",
     "text": [
      "My name is Pankaj + HAHA + 18.000 + 00233 + false\n"
     ]
    }
   ],
   "source": [
    "println(f\"$hello + HAHA + $number1%.3f + $number2%05d + $Truth\") //5 digits to the left of decimal point for $number%05d"
   ]
  },
  {
   "cell_type": "code",
   "execution_count": 19,
   "id": "b48f42c3",
   "metadata": {},
   "outputs": [
    {
     "name": "stdout",
     "output_type": "stream",
     "text": [
      "Use prefix as 18 and 8\n"
     ]
    }
   ],
   "source": [
    "println(s\"Use prefix as $number1 and ${10-2}\") //substitute and expression"
   ]
  },
  {
   "cell_type": "code",
   "execution_count": 22,
   "id": "ed404de6",
   "metadata": {},
   "outputs": [
    {
     "data": {
      "text/plain": [
       "answerand: Boolean = false\n",
       "answeror: Boolean = true\n"
      ]
     },
     "execution_count": 22,
     "metadata": {},
     "output_type": "execute_result"
    }
   ],
   "source": [
    "val answerand = true && false\n",
    "val answeror = true || false"
   ]
  },
  {
   "cell_type": "code",
   "execution_count": 31,
   "id": "cc4f33ae",
   "metadata": {},
   "outputs": [
    {
     "name": "stdout",
     "output_type": "stream",
     "text": [
      "outputing value of pi to 3 decimal places to right 6.283\n"
     ]
    },
    {
     "data": {
      "text/plain": [
       "pisquare: Double = 6.283185307179586\n"
      ]
     },
     "execution_count": 31,
     "metadata": {},
     "output_type": "execute_result"
    }
   ],
   "source": [
    "val pisquare: Double = pi*2\n",
    "println(f\"outputing value of pi to 3 decimal places to right $pisquare%.3f\")"
   ]
  },
  {
   "cell_type": "markdown",
   "id": "5cec3bca",
   "metadata": {},
   "source": [
    "# Flow Control"
   ]
  },
  {
   "cell_type": "code",
   "execution_count": 32,
   "id": "bec555d9",
   "metadata": {},
   "outputs": [
    {
     "name": "stdout",
     "output_type": "stream",
     "text": [
      "This is true\n"
     ]
    }
   ],
   "source": [
    "if (true) {\n",
    "    println(\"This is true\")\n",
    "} else {\n",
    "    println(\"This is false\")\n",
    "}"
   ]
  },
  {
   "cell_type": "code",
   "execution_count": 33,
   "id": "ba1f58af",
   "metadata": {},
   "outputs": [
    {
     "name": "stdout",
     "output_type": "stream",
     "text": [
      "Catch All\n"
     ]
    },
    {
     "data": {
      "text/plain": [
       "number3: Int = 3\n"
      ]
     },
     "execution_count": 33,
     "metadata": {},
     "output_type": "execute_result"
    }
   ],
   "source": [
    "val number3 = 3\n",
    "number3 match {\n",
    "    case 1 => println(\"One\")\n",
    "    case _ => println(\"Catch All\")\n",
    "}"
   ]
  },
  {
   "cell_type": "code",
   "execution_count": 36,
   "id": "3755c5f3",
   "metadata": {},
   "outputs": [
    {
     "name": "stdout",
     "output_type": "stream",
     "text": [
      "0\n",
      "3\n",
      "8\n",
      "15\n"
     ]
    }
   ],
   "source": [
    "for ( x <- 1 to 4) {\n",
    "    var output1 = x * x //Using var here as we are changing value \n",
    "    output1 -= 1\n",
    "    println(output1)\n",
    "}"
   ]
  },
  {
   "cell_type": "code",
   "execution_count": 38,
   "id": "180e5467",
   "metadata": {},
   "outputs": [
    {
     "name": "stdout",
     "output_type": "stream",
     "text": [
      "0\n",
      "1\n",
      "2\n",
      "3\n",
      "4\n",
      "5\n",
      "6\n",
      "7\n",
      "8\n",
      "9\n",
      "10\n"
     ]
    },
    {
     "data": {
      "text/plain": [
       "x: Int = 11\n"
      ]
     },
     "execution_count": 38,
     "metadata": {},
     "output_type": "execute_result"
    }
   ],
   "source": [
    "var x = 0\n",
    "do {\n",
    "    println(x)\n",
    "    x += 1   \n",
    "   }\n",
    "while ( x <=10 )"
   ]
  },
  {
   "cell_type": "code",
   "execution_count": 41,
   "id": "6db8a907",
   "metadata": {},
   "outputs": [
    {
     "name": "stdout",
     "output_type": "stream",
     "text": [
      "22\n"
     ]
    }
   ],
   "source": [
    "println({val y = 10; y + 12})"
   ]
  },
  {
   "cell_type": "code",
   "execution_count": null,
   "id": "095e0907",
   "metadata": {},
   "outputs": [],
   "source": [
    "var previous = 0\n",
    "var next = 1\n",
    "var out1 = 1\n",
    "for ( z <- 1 to 10) {\n",
    "    if ( previous == 0) {\n",
    "        println(previous)\n",
    "    }\n",
    "    println(out1)\n",
    "    next = previous\n",
    "    previous = next\n",
    "    out1 = previous + next\n",
    "}"
   ]
  },
  {
   "cell_type": "code",
   "execution_count": null,
   "id": "1211ad1b",
   "metadata": {},
   "outputs": [],
   "source": []
  }
 ],
 "metadata": {
  "kernelspec": {
   "display_name": "spylon-kernel",
   "language": "scala",
   "name": "spylon-kernel"
  },
  "language_info": {
   "codemirror_mode": "text/x-scala",
   "file_extension": ".scala",
   "help_links": [
    {
     "text": "MetaKernel Magics",
     "url": "https://metakernel.readthedocs.io/en/latest/source/README.html"
    }
   ],
   "mimetype": "text/x-scala",
   "name": "scala",
   "pygments_lexer": "scala",
   "version": "0.4.1"
  }
 },
 "nbformat": 4,
 "nbformat_minor": 5
}
